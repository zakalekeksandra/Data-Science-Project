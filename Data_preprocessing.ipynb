{
 "cells": [
  {
   "cell_type": "markdown",
   "metadata": {},
   "source": [
    "This notebook presents initial data preprocessing. Link to the dataset: https://www.kaggle.com/rajyellow46/wine-quality"
   ]
  },
  {
   "cell_type": "markdown",
   "metadata": {},
   "source": [
    "## 1. Libraries"
   ]
  },
  {
   "cell_type": "code",
   "execution_count": 1,
   "metadata": {},
   "outputs": [],
   "source": [
    "import glob\n",
    "import os\n",
    "import matplotlib.pyplot as plt\n",
    "import numpy as np\n",
    "import pandas as pd\n",
    "import seaborn as sns\n",
    "from sklearn.preprocessing import scale\n",
    "from sklearn. preprocessing import StandardScaler\n",
    "from sklearn.preprocessing import LabelEncoder\n",
    "from imblearn.over_sampling import RandomOverSampler\n",
    "from collections import Counter"
   ]
  },
  {
   "cell_type": "markdown",
   "metadata": {},
   "source": [
    "## 2. Reading data"
   ]
  },
  {
   "cell_type": "markdown",
   "metadata": {},
   "source": [
    "### 2.1 Function:"
   ]
  },
  {
   "cell_type": "code",
   "execution_count": 2,
   "metadata": {},
   "outputs": [],
   "source": [
    "def read_data(path):                \n",
    "    directory = path + 'winequalityN.csv'\n",
    "    dataset = pd.read_csv(directory)\n",
    "    return dataset"
   ]
  },
  {
   "cell_type": "markdown",
   "metadata": {},
   "source": [
    "### 2.2 Application:"
   ]
  },
  {
   "cell_type": "code",
   "execution_count": 3,
   "metadata": {},
   "outputs": [
    {
     "data": {
      "text/html": [
       "<div>\n",
       "<style scoped>\n",
       "    .dataframe tbody tr th:only-of-type {\n",
       "        vertical-align: middle;\n",
       "    }\n",
       "\n",
       "    .dataframe tbody tr th {\n",
       "        vertical-align: top;\n",
       "    }\n",
       "\n",
       "    .dataframe thead th {\n",
       "        text-align: right;\n",
       "    }\n",
       "</style>\n",
       "<table border=\"1\" class=\"dataframe\">\n",
       "  <thead>\n",
       "    <tr style=\"text-align: right;\">\n",
       "      <th></th>\n",
       "      <th>type</th>\n",
       "      <th>fixed acidity</th>\n",
       "      <th>volatile acidity</th>\n",
       "      <th>citric acid</th>\n",
       "      <th>residual sugar</th>\n",
       "      <th>chlorides</th>\n",
       "      <th>free sulfur dioxide</th>\n",
       "      <th>total sulfur dioxide</th>\n",
       "      <th>density</th>\n",
       "      <th>pH</th>\n",
       "      <th>sulphates</th>\n",
       "      <th>alcohol</th>\n",
       "      <th>quality</th>\n",
       "    </tr>\n",
       "  </thead>\n",
       "  <tbody>\n",
       "    <tr>\n",
       "      <th>0</th>\n",
       "      <td>white</td>\n",
       "      <td>7.0</td>\n",
       "      <td>0.27</td>\n",
       "      <td>0.36</td>\n",
       "      <td>20.7</td>\n",
       "      <td>0.045</td>\n",
       "      <td>45.0</td>\n",
       "      <td>170.0</td>\n",
       "      <td>1.0010</td>\n",
       "      <td>3.00</td>\n",
       "      <td>0.45</td>\n",
       "      <td>8.8</td>\n",
       "      <td>6</td>\n",
       "    </tr>\n",
       "    <tr>\n",
       "      <th>1</th>\n",
       "      <td>white</td>\n",
       "      <td>6.3</td>\n",
       "      <td>0.30</td>\n",
       "      <td>0.34</td>\n",
       "      <td>1.6</td>\n",
       "      <td>0.049</td>\n",
       "      <td>14.0</td>\n",
       "      <td>132.0</td>\n",
       "      <td>0.9940</td>\n",
       "      <td>3.30</td>\n",
       "      <td>0.49</td>\n",
       "      <td>9.5</td>\n",
       "      <td>6</td>\n",
       "    </tr>\n",
       "    <tr>\n",
       "      <th>2</th>\n",
       "      <td>white</td>\n",
       "      <td>8.1</td>\n",
       "      <td>0.28</td>\n",
       "      <td>0.40</td>\n",
       "      <td>6.9</td>\n",
       "      <td>0.050</td>\n",
       "      <td>30.0</td>\n",
       "      <td>97.0</td>\n",
       "      <td>0.9951</td>\n",
       "      <td>3.26</td>\n",
       "      <td>0.44</td>\n",
       "      <td>10.1</td>\n",
       "      <td>6</td>\n",
       "    </tr>\n",
       "    <tr>\n",
       "      <th>3</th>\n",
       "      <td>white</td>\n",
       "      <td>7.2</td>\n",
       "      <td>0.23</td>\n",
       "      <td>0.32</td>\n",
       "      <td>8.5</td>\n",
       "      <td>0.058</td>\n",
       "      <td>47.0</td>\n",
       "      <td>186.0</td>\n",
       "      <td>0.9956</td>\n",
       "      <td>3.19</td>\n",
       "      <td>0.40</td>\n",
       "      <td>9.9</td>\n",
       "      <td>6</td>\n",
       "    </tr>\n",
       "    <tr>\n",
       "      <th>4</th>\n",
       "      <td>white</td>\n",
       "      <td>7.2</td>\n",
       "      <td>0.23</td>\n",
       "      <td>0.32</td>\n",
       "      <td>8.5</td>\n",
       "      <td>0.058</td>\n",
       "      <td>47.0</td>\n",
       "      <td>186.0</td>\n",
       "      <td>0.9956</td>\n",
       "      <td>3.19</td>\n",
       "      <td>0.40</td>\n",
       "      <td>9.9</td>\n",
       "      <td>6</td>\n",
       "    </tr>\n",
       "  </tbody>\n",
       "</table>\n",
       "</div>"
      ],
      "text/plain": [
       "    type  fixed acidity  volatile acidity  citric acid  residual sugar  \\\n",
       "0  white            7.0              0.27         0.36            20.7   \n",
       "1  white            6.3              0.30         0.34             1.6   \n",
       "2  white            8.1              0.28         0.40             6.9   \n",
       "3  white            7.2              0.23         0.32             8.5   \n",
       "4  white            7.2              0.23         0.32             8.5   \n",
       "\n",
       "   chlorides  free sulfur dioxide  total sulfur dioxide  density    pH  \\\n",
       "0      0.045                 45.0                 170.0   1.0010  3.00   \n",
       "1      0.049                 14.0                 132.0   0.9940  3.30   \n",
       "2      0.050                 30.0                  97.0   0.9951  3.26   \n",
       "3      0.058                 47.0                 186.0   0.9956  3.19   \n",
       "4      0.058                 47.0                 186.0   0.9956  3.19   \n",
       "\n",
       "   sulphates  alcohol  quality  \n",
       "0       0.45      8.8        6  \n",
       "1       0.49      9.5        6  \n",
       "2       0.44     10.1        6  \n",
       "3       0.40      9.9        6  \n",
       "4       0.40      9.9        6  "
      ]
     },
     "execution_count": 3,
     "metadata": {},
     "output_type": "execute_result"
    }
   ],
   "source": [
    "wine_data = read_data('/Users/aleksandra/Desktop/Python_bootcamp/')\n",
    "wine_data.head()"
   ]
  },
  {
   "cell_type": "markdown",
   "metadata": {},
   "source": [
    "Explantion for the features:\n",
    "\n",
    "-**fixed acidity**: most acids involved with wine or fixed or nonvolatile (do not evaporate readily).\n",
    "\n",
    "-**volatile acidity**: the amount of acetic acid in wine, which at too high of levels can lead to an unpleasant, vinegar taste.\n",
    "\n",
    "-**citric acid**: found in small quantities, citric acid can add 'freshness' and flavor to wines.\n",
    "\n",
    "-**residual sugar**: the amount of sugar remaining after fermentation stops, it's rare to find wines with less than 1 gram/liter and wines with greater than 45 grams/liter are considered sweet\n",
    "\n",
    "-**chlorides**: the amount of salt in the wine.\n",
    "\n",
    "-**free sulfur dioxide**: the free form of  𝑆𝑂2 exists in equilibrium between molecular  𝑆𝑂2 (as a dissolved gas) and bisulfite ion; it prevents microbial growth and the oxidation of wine.\n",
    "\n",
    "-**total sulfur dioxide**: amount of free and bound forms of  𝑆𝑂2; in low concentrations,  𝑆𝑂2 is mostly undetectable in wine, but at free  𝑆𝑂2 concentrations over 50 ppm,  𝑆𝑂2 becomes evident in the nose and taste of wine.\n",
    "\n",
    "-**density**: the density of water is close to that of water depending on the percent alcohol and sugar content.\n",
    "\n",
    "-**pH**: describes how acidic or basic a wine is on a scale from 0 (very acidic) to 14 (very basic); most wines are between 3-4 on the pH scale.\n",
    "\n",
    "-**sulphates**: a wine additive which can contribute to sulfur dioxide gas (𝑆𝑂2) levels, wich acts as an antimicrobial and antioxidant.\n",
    "\n",
    "-**alcohol**: the percent alcohol content of the wine.\n",
    "\n",
    "-**quality**: score between 0 and 10.\n",
    "\n",
    "-**type**: red/white."
   ]
  },
  {
   "cell_type": "markdown",
   "metadata": {},
   "source": [
    "## 3. Exploring dataset features"
   ]
  },
  {
   "cell_type": "markdown",
   "metadata": {},
   "source": [
    "Descriptive statistics"
   ]
  },
  {
   "cell_type": "code",
   "execution_count": 4,
   "metadata": {},
   "outputs": [
    {
     "data": {
      "text/html": [
       "<div>\n",
       "<style scoped>\n",
       "    .dataframe tbody tr th:only-of-type {\n",
       "        vertical-align: middle;\n",
       "    }\n",
       "\n",
       "    .dataframe tbody tr th {\n",
       "        vertical-align: top;\n",
       "    }\n",
       "\n",
       "    .dataframe thead th {\n",
       "        text-align: right;\n",
       "    }\n",
       "</style>\n",
       "<table border=\"1\" class=\"dataframe\">\n",
       "  <thead>\n",
       "    <tr style=\"text-align: right;\">\n",
       "      <th></th>\n",
       "      <th>fixed acidity</th>\n",
       "      <th>volatile acidity</th>\n",
       "      <th>citric acid</th>\n",
       "      <th>residual sugar</th>\n",
       "      <th>chlorides</th>\n",
       "      <th>free sulfur dioxide</th>\n",
       "      <th>total sulfur dioxide</th>\n",
       "      <th>density</th>\n",
       "      <th>pH</th>\n",
       "      <th>sulphates</th>\n",
       "      <th>alcohol</th>\n",
       "      <th>quality</th>\n",
       "    </tr>\n",
       "  </thead>\n",
       "  <tbody>\n",
       "    <tr>\n",
       "      <th>count</th>\n",
       "      <td>6487.000000</td>\n",
       "      <td>6489.000000</td>\n",
       "      <td>6494.000000</td>\n",
       "      <td>6495.000000</td>\n",
       "      <td>6495.000000</td>\n",
       "      <td>6497.000000</td>\n",
       "      <td>6497.000000</td>\n",
       "      <td>6497.000000</td>\n",
       "      <td>6488.000000</td>\n",
       "      <td>6493.000000</td>\n",
       "      <td>6497.000000</td>\n",
       "      <td>6497.000000</td>\n",
       "    </tr>\n",
       "    <tr>\n",
       "      <th>mean</th>\n",
       "      <td>7.216579</td>\n",
       "      <td>0.339691</td>\n",
       "      <td>0.318722</td>\n",
       "      <td>5.444326</td>\n",
       "      <td>0.056042</td>\n",
       "      <td>30.525319</td>\n",
       "      <td>115.744574</td>\n",
       "      <td>0.994697</td>\n",
       "      <td>3.218395</td>\n",
       "      <td>0.531215</td>\n",
       "      <td>10.491801</td>\n",
       "      <td>5.818378</td>\n",
       "    </tr>\n",
       "    <tr>\n",
       "      <th>std</th>\n",
       "      <td>1.296750</td>\n",
       "      <td>0.164649</td>\n",
       "      <td>0.145265</td>\n",
       "      <td>4.758125</td>\n",
       "      <td>0.035036</td>\n",
       "      <td>17.749400</td>\n",
       "      <td>56.521855</td>\n",
       "      <td>0.002999</td>\n",
       "      <td>0.160748</td>\n",
       "      <td>0.148814</td>\n",
       "      <td>1.192712</td>\n",
       "      <td>0.873255</td>\n",
       "    </tr>\n",
       "    <tr>\n",
       "      <th>min</th>\n",
       "      <td>3.800000</td>\n",
       "      <td>0.080000</td>\n",
       "      <td>0.000000</td>\n",
       "      <td>0.600000</td>\n",
       "      <td>0.009000</td>\n",
       "      <td>1.000000</td>\n",
       "      <td>6.000000</td>\n",
       "      <td>0.987110</td>\n",
       "      <td>2.720000</td>\n",
       "      <td>0.220000</td>\n",
       "      <td>8.000000</td>\n",
       "      <td>3.000000</td>\n",
       "    </tr>\n",
       "    <tr>\n",
       "      <th>25%</th>\n",
       "      <td>6.400000</td>\n",
       "      <td>0.230000</td>\n",
       "      <td>0.250000</td>\n",
       "      <td>1.800000</td>\n",
       "      <td>0.038000</td>\n",
       "      <td>17.000000</td>\n",
       "      <td>77.000000</td>\n",
       "      <td>0.992340</td>\n",
       "      <td>3.110000</td>\n",
       "      <td>0.430000</td>\n",
       "      <td>9.500000</td>\n",
       "      <td>5.000000</td>\n",
       "    </tr>\n",
       "    <tr>\n",
       "      <th>50%</th>\n",
       "      <td>7.000000</td>\n",
       "      <td>0.290000</td>\n",
       "      <td>0.310000</td>\n",
       "      <td>3.000000</td>\n",
       "      <td>0.047000</td>\n",
       "      <td>29.000000</td>\n",
       "      <td>118.000000</td>\n",
       "      <td>0.994890</td>\n",
       "      <td>3.210000</td>\n",
       "      <td>0.510000</td>\n",
       "      <td>10.300000</td>\n",
       "      <td>6.000000</td>\n",
       "    </tr>\n",
       "    <tr>\n",
       "      <th>75%</th>\n",
       "      <td>7.700000</td>\n",
       "      <td>0.400000</td>\n",
       "      <td>0.390000</td>\n",
       "      <td>8.100000</td>\n",
       "      <td>0.065000</td>\n",
       "      <td>41.000000</td>\n",
       "      <td>156.000000</td>\n",
       "      <td>0.996990</td>\n",
       "      <td>3.320000</td>\n",
       "      <td>0.600000</td>\n",
       "      <td>11.300000</td>\n",
       "      <td>6.000000</td>\n",
       "    </tr>\n",
       "    <tr>\n",
       "      <th>max</th>\n",
       "      <td>15.900000</td>\n",
       "      <td>1.580000</td>\n",
       "      <td>1.660000</td>\n",
       "      <td>65.800000</td>\n",
       "      <td>0.611000</td>\n",
       "      <td>289.000000</td>\n",
       "      <td>440.000000</td>\n",
       "      <td>1.038980</td>\n",
       "      <td>4.010000</td>\n",
       "      <td>2.000000</td>\n",
       "      <td>14.900000</td>\n",
       "      <td>9.000000</td>\n",
       "    </tr>\n",
       "  </tbody>\n",
       "</table>\n",
       "</div>"
      ],
      "text/plain": [
       "       fixed acidity  volatile acidity  citric acid  residual sugar  \\\n",
       "count    6487.000000       6489.000000  6494.000000     6495.000000   \n",
       "mean        7.216579          0.339691     0.318722        5.444326   \n",
       "std         1.296750          0.164649     0.145265        4.758125   \n",
       "min         3.800000          0.080000     0.000000        0.600000   \n",
       "25%         6.400000          0.230000     0.250000        1.800000   \n",
       "50%         7.000000          0.290000     0.310000        3.000000   \n",
       "75%         7.700000          0.400000     0.390000        8.100000   \n",
       "max        15.900000          1.580000     1.660000       65.800000   \n",
       "\n",
       "         chlorides  free sulfur dioxide  total sulfur dioxide      density  \\\n",
       "count  6495.000000          6497.000000           6497.000000  6497.000000   \n",
       "mean      0.056042            30.525319            115.744574     0.994697   \n",
       "std       0.035036            17.749400             56.521855     0.002999   \n",
       "min       0.009000             1.000000              6.000000     0.987110   \n",
       "25%       0.038000            17.000000             77.000000     0.992340   \n",
       "50%       0.047000            29.000000            118.000000     0.994890   \n",
       "75%       0.065000            41.000000            156.000000     0.996990   \n",
       "max       0.611000           289.000000            440.000000     1.038980   \n",
       "\n",
       "                pH    sulphates      alcohol      quality  \n",
       "count  6488.000000  6493.000000  6497.000000  6497.000000  \n",
       "mean      3.218395     0.531215    10.491801     5.818378  \n",
       "std       0.160748     0.148814     1.192712     0.873255  \n",
       "min       2.720000     0.220000     8.000000     3.000000  \n",
       "25%       3.110000     0.430000     9.500000     5.000000  \n",
       "50%       3.210000     0.510000    10.300000     6.000000  \n",
       "75%       3.320000     0.600000    11.300000     6.000000  \n",
       "max       4.010000     2.000000    14.900000     9.000000  "
      ]
     },
     "execution_count": 4,
     "metadata": {},
     "output_type": "execute_result"
    }
   ],
   "source": [
    "wine_data.describe()"
   ]
  },
  {
   "cell_type": "markdown",
   "metadata": {},
   "source": [
    "Identifying missing values"
   ]
  },
  {
   "cell_type": "code",
   "execution_count": 5,
   "metadata": {},
   "outputs": [
    {
     "name": "stdout",
     "output_type": "stream",
     "text": [
      "<class 'pandas.core.frame.DataFrame'>\n",
      "RangeIndex: 6497 entries, 0 to 6496\n",
      "Data columns (total 13 columns):\n",
      " #   Column                Non-Null Count  Dtype  \n",
      "---  ------                --------------  -----  \n",
      " 0   type                  6497 non-null   object \n",
      " 1   fixed acidity         6487 non-null   float64\n",
      " 2   volatile acidity      6489 non-null   float64\n",
      " 3   citric acid           6494 non-null   float64\n",
      " 4   residual sugar        6495 non-null   float64\n",
      " 5   chlorides             6495 non-null   float64\n",
      " 6   free sulfur dioxide   6497 non-null   float64\n",
      " 7   total sulfur dioxide  6497 non-null   float64\n",
      " 8   density               6497 non-null   float64\n",
      " 9   pH                    6488 non-null   float64\n",
      " 10  sulphates             6493 non-null   float64\n",
      " 11  alcohol               6497 non-null   float64\n",
      " 12  quality               6497 non-null   int64  \n",
      "dtypes: float64(11), int64(1), object(1)\n",
      "memory usage: 660.0+ KB\n"
     ]
    }
   ],
   "source": [
    "wine_data.info()"
   ]
  },
  {
   "cell_type": "markdown",
   "metadata": {},
   "source": [
    "Identifying missing values in each column"
   ]
  },
  {
   "cell_type": "code",
   "execution_count": 6,
   "metadata": {},
   "outputs": [
    {
     "data": {
      "text/plain": [
       "type                     0\n",
       "fixed acidity           10\n",
       "volatile acidity         8\n",
       "citric acid              3\n",
       "residual sugar           2\n",
       "chlorides                2\n",
       "free sulfur dioxide      0\n",
       "total sulfur dioxide     0\n",
       "density                  0\n",
       "pH                       9\n",
       "sulphates                4\n",
       "alcohol                  0\n",
       "quality                  0\n",
       "dtype: int64"
      ]
     },
     "execution_count": 6,
     "metadata": {},
     "output_type": "execute_result"
    }
   ],
   "source": [
    "wine_data.isnull().sum()"
   ]
  },
  {
   "cell_type": "markdown",
   "metadata": {},
   "source": [
    "As we see from the above, we have only few missing values therefore we will drop them."
   ]
  },
  {
   "cell_type": "code",
   "execution_count": 7,
   "metadata": {},
   "outputs": [
    {
     "data": {
      "text/plain": [
       "type                    0\n",
       "fixed acidity           0\n",
       "volatile acidity        0\n",
       "citric acid             0\n",
       "residual sugar          0\n",
       "chlorides               0\n",
       "free sulfur dioxide     0\n",
       "total sulfur dioxide    0\n",
       "density                 0\n",
       "pH                      0\n",
       "sulphates               0\n",
       "alcohol                 0\n",
       "quality                 0\n",
       "dtype: int64"
      ]
     },
     "execution_count": 7,
     "metadata": {},
     "output_type": "execute_result"
    }
   ],
   "source": [
    "wine_data.dropna(inplace=True)\n",
    "wine_data.isnull().sum()"
   ]
  },
  {
   "cell_type": "markdown",
   "metadata": {},
   "source": [
    "We will check if we have any duplicated rows in the dataset which may indicate on the same wine. It is crucial to remove duplicates otherwise our model would learn from this duplicated data and we would get very high accuracy on in-sample testing but out of sample testing will be much less what will result in overfitting."
   ]
  },
  {
   "cell_type": "code",
   "execution_count": 8,
   "metadata": {},
   "outputs": [
    {
     "data": {
      "text/plain": [
       "1168"
      ]
     },
     "execution_count": 8,
     "metadata": {},
     "output_type": "execute_result"
    }
   ],
   "source": [
    "wine_data.duplicated().sum()"
   ]
  },
  {
   "cell_type": "markdown",
   "metadata": {},
   "source": [
    "We have 1168 duplicated rows in our dataset. We will drop them out of our dataset."
   ]
  },
  {
   "cell_type": "code",
   "execution_count": 9,
   "metadata": {},
   "outputs": [
    {
     "data": {
      "text/plain": [
       "0"
      ]
     },
     "execution_count": 9,
     "metadata": {},
     "output_type": "execute_result"
    }
   ],
   "source": [
    "wine_data.drop_duplicates(subset=None, keep='first', inplace=True, ignore_index=False)\n",
    "wine_data.duplicated().sum()"
   ]
  },
  {
   "cell_type": "code",
   "execution_count": 10,
   "metadata": {},
   "outputs": [
    {
     "data": {
      "text/plain": [
       "(5295, 13)"
      ]
     },
     "execution_count": 10,
     "metadata": {},
     "output_type": "execute_result"
    }
   ],
   "source": [
    "wine_data.shape"
   ]
  },
  {
   "cell_type": "markdown",
   "metadata": {},
   "source": [
    "Intially we had 6,497 rows and by dropping duplicates we received 5,295 rows.\n"
   ]
  },
  {
   "cell_type": "markdown",
   "metadata": {},
   "source": [
    "# 4. Scaling data"
   ]
  },
  {
   "cell_type": "markdown",
   "metadata": {},
   "source": [
    "### 4.1 Scaling:"
   ]
  },
  {
   "cell_type": "code",
   "execution_count": 11,
   "metadata": {},
   "outputs": [],
   "source": [
    "def scaling(dataframe, features_to_scale):\n",
    "    ss = StandardScaler()\n",
    "    dataframe[features_to_scale] = ss.fit_transform(dataframe[features_to_scale])\n",
    "    return dataframe.head()"
   ]
  },
  {
   "cell_type": "markdown",
   "metadata": {},
   "source": [
    "### 4.2 Application:"
   ]
  },
  {
   "cell_type": "markdown",
   "metadata": {},
   "source": [
    "Since the range of values of our dataset varies significantly, we will apply StandardScaler to mitigate this issue. We will not scale 'type' variable which is categorical."
   ]
  },
  {
   "cell_type": "code",
   "execution_count": 12,
   "metadata": {},
   "outputs": [
    {
     "data": {
      "text/html": [
       "<div>\n",
       "<style scoped>\n",
       "    .dataframe tbody tr th:only-of-type {\n",
       "        vertical-align: middle;\n",
       "    }\n",
       "\n",
       "    .dataframe tbody tr th {\n",
       "        vertical-align: top;\n",
       "    }\n",
       "\n",
       "    .dataframe thead th {\n",
       "        text-align: right;\n",
       "    }\n",
       "</style>\n",
       "<table border=\"1\" class=\"dataframe\">\n",
       "  <thead>\n",
       "    <tr style=\"text-align: right;\">\n",
       "      <th></th>\n",
       "      <th>type</th>\n",
       "      <th>fixed acidity</th>\n",
       "      <th>volatile acidity</th>\n",
       "      <th>citric acid</th>\n",
       "      <th>residual sugar</th>\n",
       "      <th>chlorides</th>\n",
       "      <th>free sulfur dioxide</th>\n",
       "      <th>total sulfur dioxide</th>\n",
       "      <th>density</th>\n",
       "      <th>pH</th>\n",
       "      <th>sulphates</th>\n",
       "      <th>alcohol</th>\n",
       "      <th>quality</th>\n",
       "    </tr>\n",
       "  </thead>\n",
       "  <tbody>\n",
       "    <tr>\n",
       "      <th>0</th>\n",
       "      <td>white</td>\n",
       "      <td>-0.165087</td>\n",
       "      <td>-0.440021</td>\n",
       "      <td>0.280208</td>\n",
       "      <td>3.477382</td>\n",
       "      <td>-0.316815</td>\n",
       "      <td>0.838865</td>\n",
       "      <td>0.984149</td>\n",
       "      <td>2.177419</td>\n",
       "      <td>-1.401186</td>\n",
       "      <td>-0.555267</td>\n",
       "      <td>-1.475154</td>\n",
       "      <td>6</td>\n",
       "    </tr>\n",
       "    <tr>\n",
       "      <th>1</th>\n",
       "      <td>white</td>\n",
       "      <td>-0.695163</td>\n",
       "      <td>-0.261684</td>\n",
       "      <td>0.144245</td>\n",
       "      <td>-0.766859</td>\n",
       "      <td>-0.208407</td>\n",
       "      <td>-0.900220</td>\n",
       "      <td>0.314921</td>\n",
       "      <td>-0.180598</td>\n",
       "      <td>0.472180</td>\n",
       "      <td>-0.288309</td>\n",
       "      <td>-0.885144</td>\n",
       "      <td>6</td>\n",
       "    </tr>\n",
       "    <tr>\n",
       "      <th>2</th>\n",
       "      <td>white</td>\n",
       "      <td>0.667890</td>\n",
       "      <td>-0.380575</td>\n",
       "      <td>0.552136</td>\n",
       "      <td>0.410863</td>\n",
       "      <td>-0.181305</td>\n",
       "      <td>-0.002628</td>\n",
       "      <td>-0.301474</td>\n",
       "      <td>0.189947</td>\n",
       "      <td>0.222398</td>\n",
       "      <td>-0.622007</td>\n",
       "      <td>-0.379421</td>\n",
       "      <td>6</td>\n",
       "    </tr>\n",
       "    <tr>\n",
       "      <th>3</th>\n",
       "      <td>white</td>\n",
       "      <td>-0.013636</td>\n",
       "      <td>-0.677803</td>\n",
       "      <td>0.008281</td>\n",
       "      <td>0.766401</td>\n",
       "      <td>0.035512</td>\n",
       "      <td>0.951064</td>\n",
       "      <td>1.265929</td>\n",
       "      <td>0.358377</td>\n",
       "      <td>-0.214721</td>\n",
       "      <td>-0.888964</td>\n",
       "      <td>-0.547996</td>\n",
       "      <td>6</td>\n",
       "    </tr>\n",
       "    <tr>\n",
       "      <th>6</th>\n",
       "      <td>white</td>\n",
       "      <td>-0.770888</td>\n",
       "      <td>-0.142793</td>\n",
       "      <td>-1.079428</td>\n",
       "      <td>0.433084</td>\n",
       "      <td>-0.316815</td>\n",
       "      <td>-0.002628</td>\n",
       "      <td>0.385366</td>\n",
       "      <td>0.122576</td>\n",
       "      <td>-0.277166</td>\n",
       "      <td>-0.421788</td>\n",
       "      <td>-0.800857</td>\n",
       "      <td>6</td>\n",
       "    </tr>\n",
       "  </tbody>\n",
       "</table>\n",
       "</div>"
      ],
      "text/plain": [
       "    type  fixed acidity  volatile acidity  citric acid  residual sugar  \\\n",
       "0  white      -0.165087         -0.440021     0.280208        3.477382   \n",
       "1  white      -0.695163         -0.261684     0.144245       -0.766859   \n",
       "2  white       0.667890         -0.380575     0.552136        0.410863   \n",
       "3  white      -0.013636         -0.677803     0.008281        0.766401   \n",
       "6  white      -0.770888         -0.142793    -1.079428        0.433084   \n",
       "\n",
       "   chlorides  free sulfur dioxide  total sulfur dioxide   density        pH  \\\n",
       "0  -0.316815             0.838865              0.984149  2.177419 -1.401186   \n",
       "1  -0.208407            -0.900220              0.314921 -0.180598  0.472180   \n",
       "2  -0.181305            -0.002628             -0.301474  0.189947  0.222398   \n",
       "3   0.035512             0.951064              1.265929  0.358377 -0.214721   \n",
       "6  -0.316815            -0.002628              0.385366  0.122576 -0.277166   \n",
       "\n",
       "   sulphates   alcohol  quality  \n",
       "0  -0.555267 -1.475154        6  \n",
       "1  -0.288309 -0.885144        6  \n",
       "2  -0.622007 -0.379421        6  \n",
       "3  -0.888964 -0.547996        6  \n",
       "6  -0.421788 -0.800857        6  "
      ]
     },
     "execution_count": 12,
     "metadata": {},
     "output_type": "execute_result"
    }
   ],
   "source": [
    "scaling(wine_data, ['fixed acidity', 'volatile acidity', 'citric acid', 'residual sugar', \n",
    "            'chlorides', 'free sulfur dioxide', 'total sulfur dioxide', 'density', \n",
    "            'pH', 'sulphates', 'alcohol'])"
   ]
  },
  {
   "cell_type": "markdown",
   "metadata": {},
   "source": [
    "## 5. Dataset distribution"
   ]
  },
  {
   "cell_type": "markdown",
   "metadata": {},
   "source": [
    "### 5.1 Function:"
   ]
  },
  {
   "cell_type": "code",
   "execution_count": 13,
   "metadata": {},
   "outputs": [],
   "source": [
    "def show_boxplot(dataframe):\n",
    "    sns.set()\n",
    "    plt.figure(figsize=(30,15))\n",
    "    sns.boxplot(data=dataframe)\n",
    "    plt.show()"
   ]
  },
  {
   "cell_type": "markdown",
   "metadata": {},
   "source": [
    "### 5.2 Application: "
   ]
  },
  {
   "cell_type": "markdown",
   "metadata": {},
   "source": [
    "Firstly we will check for outliers in our dataset."
   ]
  },
  {
   "cell_type": "code",
   "execution_count": 14,
   "metadata": {},
   "outputs": [
    {
     "data": {
      "image/png": "[encoded data removed]",
      "text/plain": [
       "<Figure size 2160x1080 with 1 Axes>"
      ]
     },
     "metadata": {},
     "output_type": "display_data"
    }
   ],
   "source": [
    "show_boxplot(wine_data)"
   ]
  },
  {
   "cell_type": "markdown",
   "metadata": {},
   "source": [
    "We can see from the graph above that 3 variables have significantly higher standard deviation than the rest. We will look into them more."
   ]
  },
  {
   "cell_type": "code",
   "execution_count": 15,
   "metadata": {},
   "outputs": [
    {
     "name": "stderr",
     "output_type": "stream",
     "text": [
      "/opt/anaconda3/lib/python3.8/site-packages/seaborn/_decorators.py:36: FutureWarning: Pass the following variables as keyword args: x, y. From version 0.12, the only valid positional argument will be `data`, and passing other arguments without an explicit keyword will result in an error or misinterpretation.\n",
      "  warnings.warn(\n",
      "/opt/anaconda3/lib/python3.8/site-packages/seaborn/_decorators.py:36: FutureWarning: Pass the following variables as keyword args: x, y. From version 0.12, the only valid positional argument will be `data`, and passing other arguments without an explicit keyword will result in an error or misinterpretation.\n",
      "  warnings.warn(\n",
      "/opt/anaconda3/lib/python3.8/site-packages/seaborn/_decorators.py:36: FutureWarning: Pass the following variables as keyword args: x, y. From version 0.12, the only valid positional argument will be `data`, and passing other arguments without an explicit keyword will result in an error or misinterpretation.\n",
      "  warnings.warn(\n",
      "/opt/anaconda3/lib/python3.8/site-packages/seaborn/_decorators.py:36: FutureWarning: Pass the following variables as keyword args: x, y. From version 0.12, the only valid positional argument will be `data`, and passing other arguments without an explicit keyword will result in an error or misinterpretation.\n",
      "  warnings.warn(\n"
     ]
    },
    {
     "data": {
      "image/png": "[encoded data removed]",
      "text/plain": [
       "<Figure size 432x288 with 4 Axes>"
      ]
     },
     "metadata": {},
     "output_type": "display_data"
    }
   ],
   "source": [
    "fig, ax =plt.subplots(2,2)\n",
    "plt.subplots_adjust(right=2.5, top=1.5)\n",
    "sns.boxplot(wine_data['residual sugar'], wine_data['type'], ax=ax[0][0])\n",
    "sns.boxplot(wine_data['free sulfur dioxide'], wine_data['type'], ax=ax[0][1])\n",
    "sns.boxplot(wine_data['chlorides'], wine_data['type'], ax=ax[1][0])\n",
    "sns.boxplot(wine_data['density'], wine_data['type'], ax=ax[1][1])\n",
    "plt.show()"
   ]
  },
  {
   "cell_type": "markdown",
   "metadata": {},
   "source": [
    "We will remove outliers that are 3 standard deviations from the mean for these 3 variables."
   ]
  },
  {
   "cell_type": "code",
   "execution_count": 16,
   "metadata": {},
   "outputs": [],
   "source": [
    "lower1 = wine_data['residual sugar'].mean()-3*wine_data['residual sugar'].std()\n",
    "upper1 = wine_data['residual sugar'].mean()+3*wine_data['residual sugar'].std()\n",
    "wine_data = wine_data[(wine_data['residual sugar']>lower1) & (wine_data['residual sugar']<upper1)]\n",
    "\n",
    "lower2 = wine_data['free sulfur dioxide'].mean()-3*wine_data['free sulfur dioxide'].std()\n",
    "upper2 = wine_data['free sulfur dioxide'].mean()+3*wine_data['free sulfur dioxide'].std()\n",
    "wine_data = wine_data[(wine_data['free sulfur dioxide']>lower2) & (wine_data['free sulfur dioxide']<upper2)]\n",
    "\n",
    "lower3 = wine_data['chlorides'].mean()-3*wine_data['chlorides'].std()\n",
    "upper3 = wine_data['chlorides'].mean()+3*wine_data['chlorides'].std()\n",
    "wine_data = wine_data[(wine_data['chlorides']>lower3) & (wine_data['chlorides']<upper3)]\n",
    "\n",
    "lower4 = wine_data['density'].mean()-3*wine_data['density'].std()\n",
    "upper4 = wine_data['density'].mean()+3*wine_data['density'].std()\n",
    "wine_data = wine_data[(wine_data['density']>lower4) & (wine_data['density']<upper4)]"
   ]
  },
  {
   "cell_type": "code",
   "execution_count": 17,
   "metadata": {},
   "outputs": [
    {
     "data": {
      "text/plain": [
       "(5133, 13)"
      ]
     },
     "execution_count": 17,
     "metadata": {},
     "output_type": "execute_result"
    }
   ],
   "source": [
    "wine_data.shape"
   ]
  },
  {
   "cell_type": "markdown",
   "metadata": {},
   "source": [
    "Previously we had 5295 so we removed 162 rows."
   ]
  },
  {
   "cell_type": "markdown",
   "metadata": {},
   "source": [
    "Secondly, we will check how many samples of red and white wine we have in our dataset."
   ]
  },
  {
   "cell_type": "code",
   "execution_count": 19,
   "metadata": {},
   "outputs": [
    {
     "data": {
      "text/plain": [
       "white    3833\n",
       "red      1300\n",
       "Name: type, dtype: int64"
      ]
     },
     "execution_count": 19,
     "metadata": {},
     "output_type": "execute_result"
    }
   ],
   "source": [
    "wine_data[\"type\"].value_counts()"
   ]
  },
  {
   "cell_type": "markdown",
   "metadata": {},
   "source": [
    "Thirdly, we will check how wine quality depends on type of wine."
   ]
  },
  {
   "cell_type": "code",
   "execution_count": 20,
   "metadata": {},
   "outputs": [
    {
     "data": {
      "text/html": [
       "<div>\n",
       "<style scoped>\n",
       "    .dataframe tbody tr th:only-of-type {\n",
       "        vertical-align: middle;\n",
       "    }\n",
       "\n",
       "    .dataframe tbody tr th {\n",
       "        vertical-align: top;\n",
       "    }\n",
       "\n",
       "    .dataframe thead th {\n",
       "        text-align: right;\n",
       "    }\n",
       "</style>\n",
       "<table border=\"1\" class=\"dataframe\">\n",
       "  <thead>\n",
       "    <tr style=\"text-align: right;\">\n",
       "      <th></th>\n",
       "      <th>red</th>\n",
       "      <th>white</th>\n",
       "      <th>total_sum</th>\n",
       "    </tr>\n",
       "  </thead>\n",
       "  <tbody>\n",
       "    <tr>\n",
       "      <th>3</th>\n",
       "      <td>8.0</td>\n",
       "      <td>15</td>\n",
       "      <td>23.0</td>\n",
       "    </tr>\n",
       "    <tr>\n",
       "      <th>4</th>\n",
       "      <td>50.0</td>\n",
       "      <td>149</td>\n",
       "      <td>199.0</td>\n",
       "    </tr>\n",
       "    <tr>\n",
       "      <th>5</th>\n",
       "      <td>551.0</td>\n",
       "      <td>1121</td>\n",
       "      <td>1672.0</td>\n",
       "    </tr>\n",
       "    <tr>\n",
       "      <th>6</th>\n",
       "      <td>510.0</td>\n",
       "      <td>1734</td>\n",
       "      <td>2244.0</td>\n",
       "    </tr>\n",
       "    <tr>\n",
       "      <th>7</th>\n",
       "      <td>164.0</td>\n",
       "      <td>680</td>\n",
       "      <td>844.0</td>\n",
       "    </tr>\n",
       "    <tr>\n",
       "      <th>8</th>\n",
       "      <td>17.0</td>\n",
       "      <td>129</td>\n",
       "      <td>146.0</td>\n",
       "    </tr>\n",
       "    <tr>\n",
       "      <th>9</th>\n",
       "      <td>0.0</td>\n",
       "      <td>5</td>\n",
       "      <td>5.0</td>\n",
       "    </tr>\n",
       "  </tbody>\n",
       "</table>\n",
       "</div>"
      ],
      "text/plain": [
       "     red  white  total_sum\n",
       "3    8.0     15       23.0\n",
       "4   50.0    149      199.0\n",
       "5  551.0   1121     1672.0\n",
       "6  510.0   1734     2244.0\n",
       "7  164.0    680      844.0\n",
       "8   17.0    129      146.0\n",
       "9    0.0      5        5.0"
      ]
     },
     "execution_count": 20,
     "metadata": {},
     "output_type": "execute_result"
    }
   ],
   "source": [
    "red_per_quality = wine_data.loc[wine_data[\"type\"]=='red'][\"quality\"].value_counts() \n",
    "white_per_quality = wine_data.loc[wine_data[\"type\"]=='white'][\"quality\"].value_counts()\n",
    "quality_table = pd.DataFrame({\n",
    "    'red': red_per_quality,\n",
    "    'white':white_per_quality,})\n",
    "quality_table.fillna(value = 0, inplace=True)\n",
    "quality_table['total_sum'] = quality_table.sum(axis=1)\n",
    "quality_table"
   ]
  },
  {
   "cell_type": "markdown",
   "metadata": {},
   "source": [
    "We see from the above that we have imbalanced dataset. Class 5 and 6 dominate whereas rest of the classes are undersampled."
   ]
  },
  {
   "cell_type": "markdown",
   "metadata": {},
   "source": [
    "## 6. Encoding categorical data"
   ]
  },
  {
   "cell_type": "markdown",
   "metadata": {},
   "source": [
    "### 6.1 Function:"
   ]
  },
  {
   "cell_type": "code",
   "execution_count": 21,
   "metadata": {},
   "outputs": [],
   "source": [
    "def onehot_encoder(dataframe, column):\n",
    "    le = LabelEncoder()\n",
    "    dataframe[column]= le.fit_transform(dataframe[column])\n",
    "    return dataframe"
   ]
  },
  {
   "cell_type": "markdown",
   "metadata": {},
   "source": [
    "### 6.2 Application:"
   ]
  },
  {
   "cell_type": "markdown",
   "metadata": {},
   "source": [
    "We have categorical variable 'type' that we will change to numerical value: 1 for white, 0 for red."
   ]
  },
  {
   "cell_type": "code",
   "execution_count": 22,
   "metadata": {},
   "outputs": [
    {
     "data": {
      "text/html": [
       "<div>\n",
       "<style scoped>\n",
       "    .dataframe tbody tr th:only-of-type {\n",
       "        vertical-align: middle;\n",
       "    }\n",
       "\n",
       "    .dataframe tbody tr th {\n",
       "        vertical-align: top;\n",
       "    }\n",
       "\n",
       "    .dataframe thead th {\n",
       "        text-align: right;\n",
       "    }\n",
       "</style>\n",
       "<table border=\"1\" class=\"dataframe\">\n",
       "  <thead>\n",
       "    <tr style=\"text-align: right;\">\n",
       "      <th></th>\n",
       "      <th>type</th>\n",
       "      <th>fixed acidity</th>\n",
       "      <th>volatile acidity</th>\n",
       "      <th>citric acid</th>\n",
       "      <th>residual sugar</th>\n",
       "      <th>chlorides</th>\n",
       "      <th>free sulfur dioxide</th>\n",
       "      <th>total sulfur dioxide</th>\n",
       "      <th>density</th>\n",
       "      <th>pH</th>\n",
       "      <th>sulphates</th>\n",
       "      <th>alcohol</th>\n",
       "      <th>quality</th>\n",
       "    </tr>\n",
       "  </thead>\n",
       "  <tbody>\n",
       "    <tr>\n",
       "      <th>1</th>\n",
       "      <td>1</td>\n",
       "      <td>-0.695163</td>\n",
       "      <td>-0.261684</td>\n",
       "      <td>0.144245</td>\n",
       "      <td>-0.766859</td>\n",
       "      <td>-0.208407</td>\n",
       "      <td>-0.900220</td>\n",
       "      <td>0.314921</td>\n",
       "      <td>-0.180598</td>\n",
       "      <td>0.472180</td>\n",
       "      <td>-0.288309</td>\n",
       "      <td>-0.885144</td>\n",
       "      <td>6</td>\n",
       "    </tr>\n",
       "    <tr>\n",
       "      <th>2</th>\n",
       "      <td>1</td>\n",
       "      <td>0.667890</td>\n",
       "      <td>-0.380575</td>\n",
       "      <td>0.552136</td>\n",
       "      <td>0.410863</td>\n",
       "      <td>-0.181305</td>\n",
       "      <td>-0.002628</td>\n",
       "      <td>-0.301474</td>\n",
       "      <td>0.189947</td>\n",
       "      <td>0.222398</td>\n",
       "      <td>-0.622007</td>\n",
       "      <td>-0.379421</td>\n",
       "      <td>6</td>\n",
       "    </tr>\n",
       "    <tr>\n",
       "      <th>3</th>\n",
       "      <td>1</td>\n",
       "      <td>-0.013636</td>\n",
       "      <td>-0.677803</td>\n",
       "      <td>0.008281</td>\n",
       "      <td>0.766401</td>\n",
       "      <td>0.035512</td>\n",
       "      <td>0.951064</td>\n",
       "      <td>1.265929</td>\n",
       "      <td>0.358377</td>\n",
       "      <td>-0.214721</td>\n",
       "      <td>-0.888964</td>\n",
       "      <td>-0.547996</td>\n",
       "      <td>6</td>\n",
       "    </tr>\n",
       "    <tr>\n",
       "      <th>6</th>\n",
       "      <td>1</td>\n",
       "      <td>-0.770888</td>\n",
       "      <td>-0.142793</td>\n",
       "      <td>-1.079428</td>\n",
       "      <td>0.433084</td>\n",
       "      <td>-0.316815</td>\n",
       "      <td>-0.002628</td>\n",
       "      <td>0.385366</td>\n",
       "      <td>0.122576</td>\n",
       "      <td>-0.277166</td>\n",
       "      <td>-0.421788</td>\n",
       "      <td>-0.800857</td>\n",
       "      <td>6</td>\n",
       "    </tr>\n",
       "    <tr>\n",
       "      <th>9</th>\n",
       "      <td>1</td>\n",
       "      <td>0.667890</td>\n",
       "      <td>-0.737249</td>\n",
       "      <td>0.756081</td>\n",
       "      <td>-0.789080</td>\n",
       "      <td>-0.343917</td>\n",
       "      <td>-0.114827</td>\n",
       "      <td>0.262087</td>\n",
       "      <td>-0.247970</td>\n",
       "      <td>-0.027384</td>\n",
       "      <td>-0.555267</td>\n",
       "      <td>0.379162</td>\n",
       "      <td>6</td>\n",
       "    </tr>\n",
       "    <tr>\n",
       "      <th>...</th>\n",
       "      <td>...</td>\n",
       "      <td>...</td>\n",
       "      <td>...</td>\n",
       "      <td>...</td>\n",
       "      <td>...</td>\n",
       "      <td>...</td>\n",
       "      <td>...</td>\n",
       "      <td>...</td>\n",
       "      <td>...</td>\n",
       "      <td>...</td>\n",
       "      <td>...</td>\n",
       "      <td>...</td>\n",
       "      <td>...</td>\n",
       "    </tr>\n",
       "    <tr>\n",
       "      <th>6490</th>\n",
       "      <td>0</td>\n",
       "      <td>-0.695163</td>\n",
       "      <td>0.986673</td>\n",
       "      <td>-1.283374</td>\n",
       "      <td>-0.611310</td>\n",
       "      <td>0.523349</td>\n",
       "      <td>-0.058727</td>\n",
       "      <td>-1.305316</td>\n",
       "      <td>0.405538</td>\n",
       "      <td>1.221527</td>\n",
       "      <td>1.446916</td>\n",
       "      <td>0.379162</td>\n",
       "      <td>6</td>\n",
       "    </tr>\n",
       "    <tr>\n",
       "      <th>6491</th>\n",
       "      <td>0</td>\n",
       "      <td>-0.316537</td>\n",
       "      <td>1.640575</td>\n",
       "      <td>-1.623283</td>\n",
       "      <td>-0.700195</td>\n",
       "      <td>0.306532</td>\n",
       "      <td>-0.114827</td>\n",
       "      <td>-1.340539</td>\n",
       "      <td>0.664919</td>\n",
       "      <td>1.221527</td>\n",
       "      <td>1.914092</td>\n",
       "      <td>-0.885144</td>\n",
       "      <td>6</td>\n",
       "    </tr>\n",
       "    <tr>\n",
       "      <th>6492</th>\n",
       "      <td>0</td>\n",
       "      <td>-0.770888</td>\n",
       "      <td>1.521684</td>\n",
       "      <td>-1.623283</td>\n",
       "      <td>-0.677974</td>\n",
       "      <td>0.902778</td>\n",
       "      <td>0.109572</td>\n",
       "      <td>-1.234871</td>\n",
       "      <td>0.122576</td>\n",
       "      <td>1.408863</td>\n",
       "      <td>0.312346</td>\n",
       "      <td>-0.042273</td>\n",
       "      <td>5</td>\n",
       "    </tr>\n",
       "    <tr>\n",
       "      <th>6495</th>\n",
       "      <td>0</td>\n",
       "      <td>-0.998063</td>\n",
       "      <td>1.789189</td>\n",
       "      <td>-1.351356</td>\n",
       "      <td>-0.677974</td>\n",
       "      <td>0.496247</td>\n",
       "      <td>0.109572</td>\n",
       "      <td>-1.234871</td>\n",
       "      <td>0.314585</td>\n",
       "      <td>2.158210</td>\n",
       "      <td>1.179958</td>\n",
       "      <td>-0.295134</td>\n",
       "      <td>5</td>\n",
       "    </tr>\n",
       "    <tr>\n",
       "      <th>6496</th>\n",
       "      <td>0</td>\n",
       "      <td>-0.922338</td>\n",
       "      <td>-0.202239</td>\n",
       "      <td>1.028009</td>\n",
       "      <td>-0.322435</td>\n",
       "      <td>0.279430</td>\n",
       "      <td>-0.675822</td>\n",
       "      <td>-1.270093</td>\n",
       "      <td>0.321323</td>\n",
       "      <td>1.034190</td>\n",
       "      <td>0.846261</td>\n",
       "      <td>0.379162</td>\n",
       "      <td>6</td>\n",
       "    </tr>\n",
       "  </tbody>\n",
       "</table>\n",
       "<p>5133 rows × 13 columns</p>\n",
       "</div>"
      ],
      "text/plain": [
       "      type  fixed acidity  volatile acidity  citric acid  residual sugar  \\\n",
       "1        1      -0.695163         -0.261684     0.144245       -0.766859   \n",
       "2        1       0.667890         -0.380575     0.552136        0.410863   \n",
       "3        1      -0.013636         -0.677803     0.008281        0.766401   \n",
       "6        1      -0.770888         -0.142793    -1.079428        0.433084   \n",
       "9        1       0.667890         -0.737249     0.756081       -0.789080   \n",
       "...    ...            ...               ...          ...             ...   \n",
       "6490     0      -0.695163          0.986673    -1.283374       -0.611310   \n",
       "6491     0      -0.316537          1.640575    -1.623283       -0.700195   \n",
       "6492     0      -0.770888          1.521684    -1.623283       -0.677974   \n",
       "6495     0      -0.998063          1.789189    -1.351356       -0.677974   \n",
       "6496     0      -0.922338         -0.202239     1.028009       -0.322435   \n",
       "\n",
       "      chlorides  free sulfur dioxide  total sulfur dioxide   density  \\\n",
       "1     -0.208407            -0.900220              0.314921 -0.180598   \n",
       "2     -0.181305            -0.002628             -0.301474  0.189947   \n",
       "3      0.035512             0.951064              1.265929  0.358377   \n",
       "6     -0.316815            -0.002628              0.385366  0.122576   \n",
       "9     -0.343917            -0.114827              0.262087 -0.247970   \n",
       "...         ...                  ...                   ...       ...   \n",
       "6490   0.523349            -0.058727             -1.305316  0.405538   \n",
       "6491   0.306532            -0.114827             -1.340539  0.664919   \n",
       "6492   0.902778             0.109572             -1.234871  0.122576   \n",
       "6495   0.496247             0.109572             -1.234871  0.314585   \n",
       "6496   0.279430            -0.675822             -1.270093  0.321323   \n",
       "\n",
       "            pH  sulphates   alcohol  quality  \n",
       "1     0.472180  -0.288309 -0.885144        6  \n",
       "2     0.222398  -0.622007 -0.379421        6  \n",
       "3    -0.214721  -0.888964 -0.547996        6  \n",
       "6    -0.277166  -0.421788 -0.800857        6  \n",
       "9    -0.027384  -0.555267  0.379162        6  \n",
       "...        ...        ...       ...      ...  \n",
       "6490  1.221527   1.446916  0.379162        6  \n",
       "6491  1.221527   1.914092 -0.885144        6  \n",
       "6492  1.408863   0.312346 -0.042273        5  \n",
       "6495  2.158210   1.179958 -0.295134        5  \n",
       "6496  1.034190   0.846261  0.379162        6  \n",
       "\n",
       "[5133 rows x 13 columns]"
      ]
     },
     "execution_count": 22,
     "metadata": {},
     "output_type": "execute_result"
    }
   ],
   "source": [
    "onehot_encoder(wine_data, 'type')"
   ]
  },
  {
   "cell_type": "markdown",
   "metadata": {},
   "source": [
    "## 7. Categorising target variable"
   ]
  },
  {
   "cell_type": "markdown",
   "metadata": {},
   "source": [
    "Since we're predicting the target variable quality, we will have to categorise the numbers into low, medium and high and then encode it to 0,1 and 2 for classification. This will reduce number of classes and allow for more efficient model training."
   ]
  },
  {
   "cell_type": "code",
   "execution_count": 23,
   "metadata": {},
   "outputs": [],
   "source": [
    "wine_data['quality']=wine_data['quality'].map({3:'low', \n",
    "                                               4:'low', \n",
    "                                               5:'medium', \n",
    "                                               6:'medium', \n",
    "                                               7:'medium', \n",
    "                                               8:'high', \n",
    "                                               9:'high'})\n",
    "\n",
    "wine_data['quality']=wine_data['quality'].map({'low':0,'medium':1,'high':2})\n"
   ]
  },
  {
   "cell_type": "markdown",
   "metadata": {},
   "source": [
    "After preprocessing is done, let's move to Classification_Models notebook where we start learning machine learning models on our preprocessed dataset. Let's save the cleaned dataset and load it in a new notebook."
   ]
  },
  {
   "cell_type": "code",
   "execution_count": 24,
   "metadata": {},
   "outputs": [],
   "source": [
    "wine_data.to_csv(\"cleaned_wine_data\")"
   ]
  }
 ],
 "metadata": {
  "kernelspec": {
   "display_name": "Python 3",
   "language": "python",
   "name": "python3"
  },
  "language_info": {
   "codemirror_mode": {
    "name": "ipython",
    "version": 3
   },
   "file_extension": ".py",
   "mimetype": "text/x-python",
   "name": "python",
   "nbconvert_exporter": "python",
   "pygments_lexer": "ipython3",
   "version": "3.8.5"
  }
 },
 "nbformat": 4,
 "nbformat_minor": 4
}
